{
 "cells": [
  {
   "cell_type": "code",
   "execution_count": 2,
   "metadata": {
    "collapsed": false
   },
   "outputs": [],
   "source": [
    "import numpy as np\n",
    "import scipy.io as sio\n",
    "import pandas as pd\n",
    "import matplotlib.pyplot as plt\n",
    "%matplotlib inline\n",
    "def __one_hot_encode(n_classes, data):\n",
    "    \"\"\"Creates a one-hot encoding vector\n",
    "        Args:\n",
    "            data: The data to be converted\n",
    "        Returns:\n",
    "            An array of one-hot encoded items\n",
    "    \"\"\"\n",
    "    n = data.shape[0]\n",
    "    one_hot = np.zeros(shape=(data.shape[0], n_classes))\n",
    "    for s in range(n):\n",
    "        temp = np.zeros(n_classes)\n",
    "\n",
    "        num = data[s][0]\n",
    "        if num == 10:\n",
    "            temp[0] = 1\n",
    "        else:\n",
    "            temp[num] = 1\n",
    "\n",
    "        one_hot[s] = temp\n",
    "\n",
    "    return one_hot\n",
    "\n",
    "def __store_data(data, num_of_examples, gray):\n",
    "    d = []\n",
    "\n",
    "    for i in range(num_of_examples):\n",
    "        if gray:\n",
    "            d.append(__rgb2gray(data[:, :, :, i]))\n",
    "        else:\n",
    "            d.append(data[:, :, :, i])\n",
    "\n",
    "    return np.asarray(d)\n",
    "\n",
    "def __rgb2gray (rgb):\n",
    "    return np.dot(rgb[..., :3], [0.299, 0.587, 0.114])\n",
    " \n"
   ]
  },
  {
   "cell_type": "code",
   "execution_count": 5,
   "metadata": {
    "collapsed": false
   },
   "outputs": [],
   "source": [
    "n_classes = 10\n",
    "train = sio.loadmat(\"E:/Program Files/MATLAB/R2013a/bin/PRO/pro/train_32x32.mat\")\n",
    "train_labels = __one_hot_encode(n_classes,train['y'])\n",
    "\n",
    "train_examples = train['X'].shape[3]\n",
    "train_data =__store_data(train['X'].astype(\"float32\") / 128.0 - 1, train_examples, False)\n",
    "# Load Test Set\n",
    "test = sio.loadmat(\"E:/Program Files/MATLAB/R2013a/bin/PRO/pro/test_32x32.mat\")\n",
    "test_labels = __one_hot_encode(n_classes, test['y'])\n",
    "test_examples = test['X'].shape[3]\n",
    "test_data = __store_data(test['X'].astype(\"float32\") / 128.0 - 1, test_examples, False)\n"
   ]
  },
  {
   "cell_type": "code",
   "execution_count": 6,
   "metadata": {
    "collapsed": false,
    "scrolled": true
   },
   "outputs": [],
   "source": [
    "trainlabels = pd.DataFrame.from_dict(train['y'],orient=\"columns\") #load .mat to dataframe\n",
    "testlabels = pd.DataFrame.from_dict(test['y'],orient=\"columns\") #load .mat to dataframe\n",
    "trainlabels.columns=['Labels'] #rename column\n",
    "testlabels.columns=['Labels'] #rename column"
   ]
  },
  {
   "cell_type": "code",
   "execution_count": 9,
   "metadata": {
    "collapsed": false
   },
   "outputs": [
    {
     "data": {
      "text/plain": [
       "<matplotlib.axes._subplots.AxesSubplot at 0xcf5ac18>"
      ]
     },
     "execution_count": 9,
     "metadata": {},
     "output_type": "execute_result"
    },
    {
     "data": {
      "image/png": "[encoded data removed]",
      "text/plain": [
       "<matplotlib.figure.Figure at 0xcd99ac8>"
      ]
     },
     "metadata": {},
     "output_type": "display_data"
    }
   ],
   "source": [
    "trainlabels.Labels.plot.hist()"
   ]
  },
  {
   "cell_type": "code",
   "execution_count": 10,
   "metadata": {
    "collapsed": false
   },
   "outputs": [
    {
     "data": {
      "text/plain": [
       "<matplotlib.axes._subplots.AxesSubplot at 0xcd73780>"
      ]
     },
     "execution_count": 10,
     "metadata": {},
     "output_type": "execute_result"
    },
    {
     "data": {
      "image/png": "[encoded data removed]",
      "text/plain": [
       "<matplotlib.figure.Figure at 0xe52f8d0>"
      ]
     },
     "metadata": {},
     "output_type": "display_data"
    }
   ],
   "source": [
    "testlabels.Labels.plot.hist()"
   ]
  },
  {
   "cell_type": "code",
   "execution_count": null,
   "metadata": {
    "collapsed": true
   },
   "outputs": [],
   "source": []
  }
 ],
 "metadata": {
  "kernelspec": {
   "display_name": "Python 2",
   "language": "python",
   "name": "python2"
  },
  "language_info": {
   "codemirror_mode": {
    "name": "ipython",
    "version": 2
   },
   "file_extension": ".py",
   "mimetype": "text/x-python",
   "name": "python",
   "nbconvert_exporter": "python",
   "pygments_lexer": "ipython2",
   "version": "2.7.13"
  }
 },
 "nbformat": 4,
 "nbformat_minor": 2
}
