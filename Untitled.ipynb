{
 "cells": [
  {
   "cell_type": "code",
   "execution_count": 63,
   "metadata": {
    "collapsed": false
   },
   "outputs": [],
   "source": [
    "from collections import Counter\n",
    "import numpy as np\n",
    "import scipy.io as sio\n",
    "import pandas as pd\n",
    "import matplotlib.pyplot as plt\n",
    "%matplotlib inline\n",
    "def __one_hot_encode(n_classes, data):\n",
    "    \"\"\"Creates a one-hot encoding vector\n",
    "        Args:\n",
    "            data: The data to be converted\n",
    "        Returns:\n",
    "            An array of one-hot encoded items\n",
    "    \"\"\"\n",
    "    n = data.shape[0]\n",
    "    one_hot = np.zeros(shape=(data.shape[0], n_classes))\n",
    "    for s in range(n):\n",
    "        temp = np.zeros(n_classes)\n",
    "\n",
    "        num = data[s][0]\n",
    "        if num == 10:\n",
    "            temp[0] = 1\n",
    "        else:\n",
    "            temp[num] = 1\n",
    "\n",
    "        one_hot[s] = temp\n",
    "\n",
    "    return one_hot\n",
    "\n",
    "def __store_data(data, num_of_examples, gray):\n",
    "    d = []\n",
    "\n",
    "    for i in range(num_of_examples):\n",
    "        if gray:\n",
    "            d.append(__rgb2gray(data[:, :, :, i]))\n",
    "        else:\n",
    "            d.append(data[:, :, :, i])\n",
    "\n",
    "    return np.asarray(d)\n",
    "\n",
    "def __rgb2gray (rgb):\n",
    "    return np.dot(rgb[..., :3], [0.299, 0.587, 0.114])\n",
    " \n"
   ]
  },
  {
   "cell_type": "code",
   "execution_count": 65,
   "metadata": {
    "collapsed": false
   },
   "outputs": [],
   "source": [
    "n_classes = 10\n",
    "train = sio.loadmat(\"E:/Program Files/MATLAB/R2013a/bin/PRO/pro/train_32x32.mat\")\n",
    "train_labels = __one_hot_encode(n_classes,train['y'])\n",
    "train_examples = train['X'].shape[3]\n",
    "train_data =__store_data(train['X'].astype(\"float32\") / 128.0 - 1, train_examples, False)\n",
    "\n",
    "# Load Test Set\n",
    "test = sio.loadmat(\"E:/Program Files/MATLAB/R2013a/bin/PRO/pro/test_32x32.mat\")\n",
    "test_labels = __one_hot_encode(n_classes, test['y'])\n",
    "test_examples = test['X'].shape[3]\n",
    "test_data = __store_data(test['X'].astype(\"float32\") / 128.0 - 1, test_examples, False)\n",
    "\n",
    "#Load Extra Set\n",
    "extra = sio.loadmat(\"E:/Program Files/MATLAB/R2013a/bin/PRO/pro/extra_32x32.mat\")\n",
    "extra_labels = __one_hot_encode(n_classes, extra['y'])\n",
    "extra_examples = extra['X'].shape[3]\n",
    " \n"
   ]
  },
  {
   "cell_type": "code",
   "execution_count": 66,
   "metadata": {
    "collapsed": false,
    "scrolled": true
   },
   "outputs": [],
   "source": [
    "trainlabels = pd.DataFrame.from_dict(train['y'],orient=\"columns\") #load .mat to dataframe\n",
    "testlabels = pd.DataFrame.from_dict(test['y'],orient=\"columns\") #load .mat to dataframe\n",
    "extralabels = pd.DataFrame.from_dict(extra['y'],orient=\"columns\") #load .mat to dataframe\n",
    "trainlabels.columns=['Labels'] #rename column\n",
    "testlabels.columns=['Labels'] #rename column\n",
    "extralabels.columns=['Labels'] #rename column"
   ]
  },
  {
   "cell_type": "code",
   "execution_count": 67,
   "metadata": {
    "collapsed": false,
    "scrolled": false
   },
   "outputs": [
    {
     "data": {
      "image/png": "[encoded data removed]",
      "text/plain": [
       "<matplotlib.figure.Figure at 0x4b914898>"
      ]
     },
     "metadata": {},
     "output_type": "display_data"
    }
   ],
   "source": [
    "labels, values = zip(*Counter(trainlabels.Labels).items())\n",
    "indexes = np.arange(len(labels))\n",
    "plt.bar(indexes, values, 0.8)\n",
    "plt.xticks(indexes, labels)\n",
    "plt.xlabel('Train data', fontsize=14, color='black')\n",
    "plt.show()"
   ]
  },
  {
   "cell_type": "code",
   "execution_count": 68,
   "metadata": {
    "collapsed": false
   },
   "outputs": [
    {
     "data": {
      "image/png": "[encoded data removed]",
      "text/plain": [
       "<matplotlib.figure.Figure at 0x563aada0>"
      ]
     },
     "metadata": {},
     "output_type": "display_data"
    }
   ],
   "source": [
    "labels, values = zip(*Counter(testlabels.Labels).items())\n",
    "indexes = np.arange(len(labels))\n",
    "plt.bar(indexes, values, 0.8)\n",
    "plt.xticks(indexes, labels)\n",
    "plt.xlabel('Test data', fontsize=14, color='black')\n",
    "plt.show()"
   ]
  },
  {
   "cell_type": "code",
   "execution_count": 69,
   "metadata": {
    "collapsed": false
   },
   "outputs": [
    {
     "data": {
      "image/png": "[encoded data removed]",
      "text/plain": [
       "<matplotlib.figure.Figure at 0x4bbae9e8>"
      ]
     },
     "metadata": {},
     "output_type": "display_data"
    }
   ],
   "source": [
    "labels, values = zip(*Counter(extralabels.Labels).items())\n",
    "indexes = np.arange(len(labels))\n",
    "plt.bar(indexes, values, 0.8)\n",
    "plt.xticks(indexes, labels)\n",
    "plt.xlabel('Extra data', fontsize=14, color='black')\n",
    "plt.show()"
   ]
  },
  {
   "cell_type": "code",
   "execution_count": null,
   "metadata": {
    "collapsed": true
   },
   "outputs": [],
   "source": []
  },
  {
   "cell_type": "code",
   "execution_count": null,
   "metadata": {
    "collapsed": true
   },
   "outputs": [],
   "source": []
  }
 ],
 "metadata": {
  "kernelspec": {
   "display_name": "Python 2",
   "language": "python",
   "name": "python2"
  },
  "language_info": {
   "codemirror_mode": {
    "name": "ipython",
    "version": 2
   },
   "file_extension": ".py",
   "mimetype": "text/x-python",
   "name": "python",
   "nbconvert_exporter": "python",
   "pygments_lexer": "ipython2",
   "version": "2.7.13"
  }
 },
 "nbformat": 4,
 "nbformat_minor": 2
}
